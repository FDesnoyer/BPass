{
 "cells": [
  {
   "cell_type": "markdown",
   "metadata": {},
   "source": [
    "# Un NoteBook pour apprendre à manipuler les Listes"
   ]
  },
  {
   "cell_type": "markdown",
   "metadata": {},
   "source": [
    "Pour exécuter les cellules contenant des lignes de code, utilisez shift + entrée\n",
    "# -------------------------------------------------------------------------------------------------------------"
   ]
  },
  {
   "cell_type": "markdown",
   "metadata": {},
   "source": [
    "Voici la liste des courses de Camille:\n",
    "- pain\n",
    "- riz\n",
    "- tomates\n",
    "- mandarines\n",
    "- lentilles\n",
    "- yaourts\n",
    "- pommes"
   ]
  },
  {
   "cell_type": "markdown",
   "metadata": {},
   "source": [
    "Voici comment on peut créer une liste en Python:"
   ]
  },
  {
   "cell_type": "code",
   "execution_count": 32,
   "metadata": {},
   "outputs": [],
   "source": [
    "Liste=['pain','riz','tomates','riz','mandarines','lentilles','yaourts','pommes']"
   ]
  },
  {
   "cell_type": "markdown",
   "metadata": {},
   "source": [
    "On peut aussi utiliser des commandes comme append() pour ajouter le café:"
   ]
  },
  {
   "cell_type": "code",
   "execution_count": 33,
   "metadata": {},
   "outputs": [],
   "source": [
    "Liste.append('café')"
   ]
  },
  {
   "cell_type": "markdown",
   "metadata": {},
   "source": [
    "Puisque l'on a pas eu d'affichage, on va demander à voir ce qu'il y a dans la liste:"
   ]
  },
  {
   "cell_type": "code",
   "execution_count": null,
   "metadata": {},
   "outputs": [],
   "source": [
    "print(Liste)"
   ]
  },
  {
   "cell_type": "markdown",
   "metadata": {},
   "source": [
    "On a écrit deux fois le riz, comment peut-on l'enlever?"
   ]
  },
  {
   "cell_type": "code",
   "execution_count": 34,
   "metadata": {},
   "outputs": [],
   "source": [
    "S=set(Liste)"
   ]
  },
  {
   "cell_type": "code",
   "execution_count": null,
   "metadata": {},
   "outputs": [],
   "source": [
    "print(S)"
   ]
  },
  {
   "cell_type": "code",
   "execution_count": 35,
   "metadata": {},
   "outputs": [],
   "source": [
    "Liste=list(S)"
   ]
  },
  {
   "cell_type": "code",
   "execution_count": null,
   "metadata": {},
   "outputs": [],
   "source": [
    "print(Liste)"
   ]
  },
  {
   "cell_type": "markdown",
   "metadata": {},
   "source": [
    "C'est une astuce courante et très simple: on transforme la liste en ensemble (S=set(Liste)) car dans un ensemble on ne peut pas avoir plusieurs fois la même valeur puis on retrouve la liste en utilisant la commande list().\n",
    "Comparez bien les contenus de Liste et S."
   ]
  },
  {
   "cell_type": "markdown",
   "metadata": {},
   "source": [
    "######                              -------------------------------------------"
   ]
  },
  {
   "cell_type": "markdown",
   "metadata": {},
   "source": [
    "## Exercices:\n",
    "\n",
    "1. Rajouter du thé dans la liste\n",
    "2. Changement de programme, il reste du café, enlever-le de la liste des courses (recherchez la méthode \"remove()\")\n",
    "3. En vous aidant d'internet, classez la liste des courses dans l'ordre alphabétique (recherchez la méthode \"sort()\")"
   ]
  },
  {
   "cell_type": "code",
   "execution_count": 36,
   "metadata": {},
   "outputs": [],
   "source": [
    "## premier exercice, ajouter le thé\n",
    "Liste.append('thé')"
   ]
  },
  {
   "cell_type": "code",
   "execution_count": null,
   "metadata": {},
   "outputs": [],
   "source": [
    "## deuxième exercice, enlever le café\n"
   ]
  },
  {
   "cell_type": "code",
   "execution_count": null,
   "metadata": {},
   "outputs": [],
   "source": [
    "## troisième exercice, trier la liste\n",
    "Liste.sort()"
   ]
  },
  {
   "cell_type": "markdown",
   "metadata": {},
   "source": [
    "Une cellule pour jouer:"
   ]
  },
  {
   "cell_type": "code",
   "execution_count": null,
   "metadata": {},
   "outputs": [],
   "source": []
  },
  {
   "cell_type": "markdown",
   "metadata": {},
   "source": [
    "### ------------------------------------------------------------------------------\n",
    "### Les listes, deuxième partie: parcours d'une liste\n",
    "### ------------------------------------------------------------------------------"
   ]
  },
  {
   "cell_type": "markdown",
   "metadata": {},
   "source": [
    "Les listes sont des objets qui sont rangés entre [...] comme nous l'avons déjà vu. On ne sait, en revanche, pas encore \"parcourir\" une liste pour manipuler les éléments un par un."
   ]
  },
  {
   "cell_type": "code",
   "execution_count": null,
   "metadata": {},
   "outputs": [],
   "source": [
    "## Exemple: une procédure qui enlève l'élément 'thé' de notre liste et qui affiche la liste\n",
    "n=len(Liste)\n",
    "L=[]\n",
    "for i in range(n):\n",
    "    if Liste[i]!='thé':\n",
    "        L.append(Liste[i])\n",
    "Liste=L\n",
    "print(Liste)"
   ]
  },
  {
   "cell_type": "markdown",
   "metadata": {},
   "source": [
    "Il y a deux éléments clés ici: on a parcouru la liste par ses \"indices\" avec \"for i in...\", range(n) crée un tableau de nombres allant de 0 à n-1 (attention! c'est très important! les listes commencent toujours à 0) et len(Liste) donne la longueur de notre liste de courses.\n",
    "On a aussi utilisé une liste \"auxiliaire\" pour copier les liste sans 'thé' en créant une liste vide L=[]."
   ]
  },
  {
   "cell_type": "code",
   "execution_count": null,
   "metadata": {},
   "outputs": [],
   "source": [
    "## Deuxième façon: on parcourt la liste SANS LES INDICES\n",
    "L=[]\n",
    "for l in Liste:\n",
    "    if l!='thé':\n",
    "        L.append(l)\n",
    "Liste=L\n",
    "print(Liste)"
   ]
  },
  {
   "cell_type": "markdown",
   "metadata": {},
   "source": [
    "La méthode index() trouve l'indice (le plus petit) d'une liste contenant une valeur donnée, exemple:"
   ]
  },
  {
   "cell_type": "code",
   "execution_count": 17,
   "metadata": {},
   "outputs": [
    {
     "data": {
      "text/plain": [
       "2"
      ]
     },
     "execution_count": 17,
     "metadata": {},
     "output_type": "execute_result"
    }
   ],
   "source": [
    "Liste.index('mandarines')"
   ]
  },
  {
   "cell_type": "markdown",
   "metadata": {},
   "source": [
    "A l'aide des méthodes index et pop, supprimer les pommes de la liste des courses (ce n'est pas la saison des pommes!)."
   ]
  },
  {
   "cell_type": "code",
   "execution_count": 37,
   "metadata": {},
   "outputs": [
    {
     "name": "stdout",
     "output_type": "stream",
     "text": [
      "['tomates', 'café', 'mandarines', 'yaourts', 'riz', 'lentilles', 'pain', 'thé']\n"
     ]
    }
   ],
   "source": [
    "i=Liste.index('pommes')\n",
    "Liste.pop(i)\n",
    "print(Liste)"
   ]
  },
  {
   "cell_type": "markdown",
   "metadata": {},
   "source": [
    "### -----------------------------------------------------------------------------------\n",
    "### Les listes, troisième partie : compréhension de liste\n",
    "### -----------------------------------------------------------------------------------\n",
    "\n",
    "\n",
    "On peut parcourir la liste elle-même, élément par élément, sans utiliser les indices (les \"listes\" sont des \"itérables\").\n",
    "Dans les deux exemples ci-dessus, on a fabriqué la liste élément par élément."
   ]
  },
  {
   "cell_type": "code",
   "execution_count": null,
   "metadata": {},
   "outputs": [],
   "source": [
    "## Exercice: fabriquer une liste contenant les carrés des entiers de 1 à 10"
   ]
  },
  {
   "cell_type": "markdown",
   "metadata": {},
   "source": [
    "On peut aussi fabriquer une liste comme on fabrique une suite à l'aide d'une formule: (recopier le programme suivant et le faire fonctionner)"
   ]
  },
  {
   "cell_type": "raw",
   "metadata": {},
   "source": [
    "L=[(i+1)**2 for i in range(10)]\n",
    "print(L)"
   ]
  },
  {
   "cell_type": "code",
   "execution_count": null,
   "metadata": {},
   "outputs": [],
   "source": []
  },
  {
   "cell_type": "markdown",
   "metadata": {},
   "source": [
    "Sachant le symbole % permet de calculer le reste de la division euclidienne, que fait le programme suivant?"
   ]
  },
  {
   "cell_type": "raw",
   "metadata": {},
   "source": [
    "L3=[i**2 for in range(100) if i%3==0]"
   ]
  },
  {
   "cell_type": "code",
   "execution_count": null,
   "metadata": {},
   "outputs": [],
   "source": []
  },
  {
   "cell_type": "code",
   "execution_count": null,
   "metadata": {},
   "outputs": [],
   "source": [
    "## Exercice: afficher une liste des carrés des nombres pairs entre 1 et 150"
   ]
  },
  {
   "cell_type": "code",
   "execution_count": null,
   "metadata": {},
   "outputs": [],
   "source": []
  },
  {
   "cell_type": "code",
   "execution_count": null,
   "metadata": {},
   "outputs": [],
   "source": []
  }
 ],
 "metadata": {
  "kernelspec": {
   "display_name": "Python 3",
   "language": "python",
   "name": "python3"
  },
  "language_info": {
   "codemirror_mode": {
    "name": "ipython",
    "version": 3
   },
   "file_extension": ".py",
   "mimetype": "text/x-python",
   "name": "python",
   "nbconvert_exporter": "python",
   "pygments_lexer": "ipython3",
   "version": "3.7.4"
  }
 },
 "nbformat": 4,
 "nbformat_minor": 2
}
